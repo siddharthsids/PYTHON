{
  "nbformat": 4,
  "nbformat_minor": 0,
  "metadata": {
    "colab": {
      "provenance": []
    },
    "kernelspec": {
      "name": "python3",
      "display_name": "Python 3"
    },
    "language_info": {
      "name": "python"
    }
  },
  "cells": [
    {
      "cell_type": "markdown",
      "source": [
        "# Theoretical Questions"
      ],
      "metadata": {
        "id": "fTkuRYJxEhDx"
      }
    },
    {
      "cell_type": "markdown",
      "source": [
        "**1. What is the difference between interpreted and compiled languages?**\n",
        "\n",
        "Compiled languages (like C, C++) translate the entire source code into machine code before running. This makes execution faster, but you need to recompile if you change the code.\n",
        "\n",
        "Interpreted languages (like Python, JavaScript) translate and run the code line-by-line at runtime. This makes them slower but easier to debug and modify.\n",
        "\n"
      ],
      "metadata": {
        "id": "16dOYcPtEyXB"
      }
    },
    {
      "cell_type": "markdown",
      "source": [
        "**2. What is exception handling in Python?**\n",
        "\n",
        "It’s how Python deals with errors without crashing the program. Instead of your program just stopping when it hits an error, you can “catch” the error and decide what to do next."
      ],
      "metadata": {
        "id": "TA7XQYXYE4fH"
      }
    },
    {
      "cell_type": "markdown",
      "source": [
        "**3. What is the purpose of the finally block in exception handling?**\n",
        "\n",
        "The finally block runs no matter what happens — whether there’s an error or not. It’s perfect for cleanup tasks like closing files or releasing resources."
      ],
      "metadata": {
        "id": "D5y_brkRE7Tv"
      }
    },
    {
      "cell_type": "markdown",
      "source": [
        "**4. What is logging in Python?**\n",
        "\n",
        "Logging is like keeping a diary for your program. Instead of printing messages to the screen, you write them to a log file to keep track of events, errors, or important actions for later review."
      ],
      "metadata": {
        "id": "nNGlg8GCFFHp"
      }
    },
    {
      "cell_type": "markdown",
      "source": [
        "**5. What is the significance of the __del__ method in Python?**\n",
        "\n",
        "__del__ is Python’s destructor method — it runs when an object is about to be destroyed, usually to clean up resources. Think of it as the “goodbye” function of an object."
      ],
      "metadata": {
        "id": "pIdio57IFLnp"
      }
    },
    {
      "cell_type": "markdown",
      "source": [
        "**6. What is the difference between import and from ... import in Python?**\n",
        "\n",
        "import module → You bring in the whole module and use it with module.function().\n",
        "\n",
        "from module import function → You bring in just that specific function, so you can use it directly.\n",
        "\n"
      ],
      "metadata": {
        "id": "vu7LXkdXFRpz"
      }
    },
    {
      "cell_type": "markdown",
      "source": [
        "**7. How can you handle multiple exceptions in Python?**\n",
        "\n",
        "You can:\n",
        "\n",
        "Use multiple except blocks for different error types.\n",
        "\n",
        "Or use a single except block with a tuple of exceptions.\n",
        "\n"
      ],
      "metadata": {
        "id": "sMcsHpfsFWab"
      }
    },
    {
      "cell_type": "markdown",
      "source": [
        "**8. What is the purpose of the with statement when handling files in Python?**\n",
        "\n",
        "It’s like an automatic janitor — it opens the file, lets you work with it, and closes it for you, even if there’s an error."
      ],
      "metadata": {
        "id": "3cm2wmu4Fc7f"
      }
    },
    {
      "cell_type": "markdown",
      "source": [
        "**9. What is the difference between multithreading and multiprocessing?**\n",
        "\n",
        "Multithreading: Multiple threads share the same memory space (good for I/O-heavy tasks).\n",
        "\n",
        "Multiprocessing: Multiple processes each have their own memory (good for CPU-heavy tasks).\n",
        "\n"
      ],
      "metadata": {
        "id": "C5MhzZYlFhjf"
      }
    },
    {
      "cell_type": "markdown",
      "source": [
        "**10. What are the advantages of using logging in a program?*\n",
        "\n",
        "Keeps a permanent record of events.\n",
        "\n",
        "Helps debug without cluttering output.\n",
        "\n",
        "Useful for monitoring apps in production."
      ],
      "metadata": {
        "id": "gqJTSyh0Flzd"
      }
    },
    {
      "cell_type": "markdown",
      "source": [
        "**11. What is memory management in Python?**\n",
        "\n",
        "It’s how Python handles allocating and freeing memory. Python automatically manages memory with a garbage collector."
      ],
      "metadata": {
        "id": "K7wiP-14Fo-z"
      }
    },
    {
      "cell_type": "markdown",
      "source": [
        "**12. What are the basic steps involved in exception handling in Python?**\n",
        "\n",
        "\n",
        "Write risky code inside try.\n",
        "\n",
        "Catch errors with except.\n",
        "\n",
        "(Optional) Run cleanup with finally.\n",
        "\n",
        "(Optional) Run code if no error happens using else."
      ],
      "metadata": {
        "id": "UnagTeanFskL"
      }
    },
    {
      "cell_type": "markdown",
      "source": [
        "**13. Why is memory management important in Python?**\n",
        "\n",
        "Good memory management prevents your program from becoming slow or crashing due to memory leaks."
      ],
      "metadata": {
        "id": "zH1NKvcDFzfQ"
      }
    },
    {
      "cell_type": "markdown",
      "source": [
        "**14. What is the role of try and except in exception handling?**\n",
        "\n",
        "try → Code that might fail.\n",
        "\n",
        "except → Code to run if an error occurs."
      ],
      "metadata": {
        "id": "lRKotdOmF3yj"
      }
    },
    {
      "cell_type": "markdown",
      "source": [
        "**15. How does Python’s garbage collection system work?*\n",
        "\n",
        "It frees memory by removing objects that are no longer used, mainly using reference counting and a cyclic garbage collector."
      ],
      "metadata": {
        "id": "W3h5sr-vF8eN"
      }
    },
    {
      "cell_type": "markdown",
      "source": [
        "**16. What is the purpose of the else block in exception handling?**\n",
        "\n",
        "It runs only if there was no error in the try block."
      ],
      "metadata": {
        "id": "o1XXa1AeGA_O"
      }
    },
    {
      "cell_type": "markdown",
      "source": [
        "**17. What are the common logging levels in Python?**\n",
        "\n",
        "DEBUG → Detailed info for debugging.\n",
        "\n",
        "INFO → General events.\n",
        "\n",
        "WARNING → Something odd, but not fatal.\n",
        "\n",
        "ERROR → Something failed.\n",
        "\n",
        "CRITICAL → Very bad; program may stop."
      ],
      "metadata": {
        "id": "Su7LZNEbGFY7"
      }
    },
    {
      "cell_type": "markdown",
      "source": [
        "**18. What is the difference between os.fork() and multiprocessing in Python?**\n",
        "\n",
        "os.fork() → Low-level method to create a new process (Unix only).\n",
        "\n",
        "multiprocessing → High-level Python module for creating processes that work across platforms."
      ],
      "metadata": {
        "id": "V6iEMDSAGI_T"
      }
    },
    {
      "cell_type": "markdown",
      "source": [
        "**19. What is the importance of closing a file in Python?**\n",
        "\n",
        "It frees system resources and ensures all data is saved."
      ],
      "metadata": {
        "id": "242Uqr8_GObS"
      }
    },
    {
      "cell_type": "markdown",
      "source": [
        "**20. What is the difference between file.read() and file.readline() in Python?**\n",
        "\n",
        ".read() → Reads the entire file (or given number of characters).\n",
        "\n",
        ".readline() → Reads one line at a time."
      ],
      "metadata": {
        "id": "HJbaVQLHGQwH"
      }
    },
    {
      "cell_type": "markdown",
      "source": [
        "**21. What is the logging module in Python used for?**\n",
        "\n",
        "To create and manage logs for debugging, error tracking, and monitoring."
      ],
      "metadata": {
        "id": "OJ4F7w9EGVlE"
      }
    },
    {
      "cell_type": "markdown",
      "source": [
        "**22. What is the os module in Python used for in file handling?**\n",
        "\n",
        "It lets you interact with the operating system — like checking if a file exists, creating folders, deleting files, etc."
      ],
      "metadata": {
        "id": "FdX-7qCSGaeS"
      }
    },
    {
      "cell_type": "markdown",
      "source": [
        "**23. What are the challenges associated with memory management in Python?**\n",
        "\n",
        "Cyclic references (objects referencing each other).\n",
        "\n",
        "Large data structures consuming too much memory.\n",
        "\n",
        "Garbage collector pauses."
      ],
      "metadata": {
        "id": "mr80phGxGd7m"
      }
    },
    {
      "cell_type": "markdown",
      "source": [
        "**24. How do you raise an exception manually in Python?**\n",
        "\n",
        "Use the raise keyword:\n",
        "\n",
        "raise ValueError(\"Invalid input\")\n"
      ],
      "metadata": {
        "id": "H8m6LgsqGh4y"
      }
    },
    {
      "cell_type": "markdown",
      "source": [
        "**25. Why is it important to use multithreading in certain applications?**\n",
        "\n",
        "It speeds up tasks that wait a lot (like downloading files) by doing other things in parallel."
      ],
      "metadata": {
        "id": "vPhUUvFQGstO"
      }
    },
    {
      "cell_type": "code",
      "source": [],
      "metadata": {
        "id": "5THHTU2bG49G"
      },
      "execution_count": 6,
      "outputs": []
    },
    {
      "cell_type": "markdown",
      "source": [
        "# Practical Questions"
      ],
      "metadata": {
        "id": "L00DU_JnG3i_"
      }
    },
    {
      "cell_type": "markdown",
      "source": [
        "How can you open a file for writing in Python and write a string to it"
      ],
      "metadata": {
        "id": "bRL76zj5Jh4Q"
      }
    },
    {
      "cell_type": "code",
      "source": [
        "with open(\"example.txt\", \"w\") as file:\n",
        "    file.write(\"Hello, this is a test string!\")\n",
        "print(\"String written to file.\")\n"
      ],
      "metadata": {
        "colab": {
          "base_uri": "https://localhost:8080/"
        },
        "id": "J2aOLc5xIFJm",
        "outputId": "f1c47558-496b-4d6d-e104-b85d7bacb043"
      },
      "execution_count": 7,
      "outputs": [
        {
          "output_type": "stream",
          "name": "stdout",
          "text": [
            "String written to file.\n"
          ]
        }
      ]
    },
    {
      "cell_type": "markdown",
      "source": [
        "Write a Python program to read the contents of a file and print each line"
      ],
      "metadata": {
        "id": "pREdhwMpJjpf"
      }
    },
    {
      "cell_type": "code",
      "source": [
        "with open(\"example.txt\", \"r\") as file:\n",
        "    for line in file:\n",
        "        print(line.strip())\n"
      ],
      "metadata": {
        "colab": {
          "base_uri": "https://localhost:8080/"
        },
        "id": "wQFU8hFSIl7C",
        "outputId": "beee0aad-1b7c-4d3f-db0e-f8a80378287e"
      },
      "execution_count": 8,
      "outputs": [
        {
          "output_type": "stream",
          "name": "stdout",
          "text": [
            "Hello, this is a test string!\n"
          ]
        }
      ]
    },
    {
      "cell_type": "markdown",
      "source": [
        "How would you handle a case where the file doesn’t exist while trying to open it for reading"
      ],
      "metadata": {
        "id": "ThgSsTjdJlz6"
      }
    },
    {
      "cell_type": "code",
      "source": [
        "try:\n",
        "    with open(\"nonexistent.txt\", \"r\") as file:\n",
        "        print(file.read())\n",
        "except FileNotFoundError:\n",
        "    print(\"Oops! File not found.\")\n"
      ],
      "metadata": {
        "colab": {
          "base_uri": "https://localhost:8080/"
        },
        "id": "cvSvmAooIpm4",
        "outputId": "853934db-3eac-4c29-8b5e-d80c2c54df32"
      },
      "execution_count": 9,
      "outputs": [
        {
          "output_type": "stream",
          "name": "stdout",
          "text": [
            "Oops! File not found.\n"
          ]
        }
      ]
    },
    {
      "cell_type": "markdown",
      "source": [
        "Write a Python script that reads from one file and writes its content to another file"
      ],
      "metadata": {
        "id": "H573AF0gJoql"
      }
    },
    {
      "cell_type": "code",
      "source": [
        "try:\n",
        "    with open(\"source.txt\", \"r\") as src:\n",
        "        with open(\"destination.txt\", \"w\") as dest:\n",
        "            dest.write(src.read())\n",
        "    print(\"Content copied successfully.\")\n",
        "except FileNotFoundError:\n",
        "    print(\"Error: source.txt not found.\")\n",
        "except PermissionError:\n",
        "    print(\"Error: You do not have permission to read/write the file.\")\n",
        "except Exception as e:\n",
        "    print(f\"An unexpected error occurred: {e}\")\n"
      ],
      "metadata": {
        "colab": {
          "base_uri": "https://localhost:8080/"
        },
        "id": "fVu6ZGYIIrB-",
        "outputId": "3a338a02-5213-4f4d-ff80-2f0459000af8"
      },
      "execution_count": 11,
      "outputs": [
        {
          "output_type": "stream",
          "name": "stdout",
          "text": [
            "Error: source.txt not found.\n"
          ]
        }
      ]
    },
    {
      "cell_type": "markdown",
      "source": [
        "How would you catch and handle division by zero error in Python"
      ],
      "metadata": {
        "id": "qZsK8psIJt2G"
      }
    },
    {
      "cell_type": "code",
      "source": [
        "try:\n",
        "    result = 10 / 0\n",
        "except ZeroDivisionError:\n",
        "    print(\"You can't divide by zero!\")\n"
      ],
      "metadata": {
        "id": "OuJ7L_lHIr0I"
      },
      "execution_count": null,
      "outputs": []
    },
    {
      "cell_type": "markdown",
      "source": [
        "Write a Python program that logs an error message to a log file when a division by zero exception occurs"
      ],
      "metadata": {
        "id": "HvI1SpBGJvw9"
      }
    },
    {
      "cell_type": "code",
      "source": [
        "import logging\n",
        "logging.basicConfig(filename=\"errors.log\", level=logging.ERROR)\n",
        "\n",
        "try:\n",
        "    result = 10 / 0\n",
        "except ZeroDivisionError as e:\n",
        "    logging.error(\"Division by zero occurred: %s\", e)\n"
      ],
      "metadata": {
        "id": "29pt1TnqIu4P"
      },
      "execution_count": null,
      "outputs": []
    },
    {
      "cell_type": "markdown",
      "source": [
        "How do you log information at different levels (INFO, ERROR, WARNING) in Python using the logging module"
      ],
      "metadata": {
        "id": "shdgodQTJyEQ"
      }
    },
    {
      "cell_type": "code",
      "source": [
        "import logging\n",
        "logging.basicConfig(filename=\"app.log\", level=logging.DEBUG)\n",
        "\n",
        "logging.info(\"This is an info message\")\n",
        "logging.warning(\"This is a warning\")\n",
        "logging.error(\"This is an error message\")\n"
      ],
      "metadata": {
        "id": "Q2bcqDreIyIR"
      },
      "execution_count": null,
      "outputs": []
    },
    {
      "cell_type": "markdown",
      "source": [
        "Write a program to handle a file opening error using exception handling"
      ],
      "metadata": {
        "id": "DV5022XeJ0Ol"
      }
    },
    {
      "cell_type": "code",
      "source": [
        "try:\n",
        "    with open(\"unknown.txt\", \"r\") as file:\n",
        "        print(file.read())\n",
        "except FileNotFoundError:\n",
        "    print(\"File could not be opened.\")\n"
      ],
      "metadata": {
        "id": "EoL_j_5tI1B2"
      },
      "execution_count": null,
      "outputs": []
    },
    {
      "cell_type": "markdown",
      "source": [
        "How can you read a file line by line and store its content in a list in Python"
      ],
      "metadata": {
        "id": "jyTcYX3qJ2sg"
      }
    },
    {
      "cell_type": "code",
      "source": [
        "with open(\"example.txt\", \"r\") as file:\n",
        "    lines = file.readlines()\n",
        "print(lines)\n"
      ],
      "metadata": {
        "id": "gKs0RqjKI2ky"
      },
      "execution_count": null,
      "outputs": []
    },
    {
      "cell_type": "markdown",
      "source": [
        "How can you append data to an existing file in Python"
      ],
      "metadata": {
        "id": "9cUt7HSSJ4tW"
      }
    },
    {
      "cell_type": "code",
      "source": [
        "with open(\"example.txt\", \"a\") as file:\n",
        "    file.write(\"\\nThis line was appended!\")\n"
      ],
      "metadata": {
        "id": "wQMoSucjI6AF"
      },
      "execution_count": null,
      "outputs": []
    },
    {
      "cell_type": "markdown",
      "source": [
        "Write a Python program that uses a try-except block to handle an error when attempting to access a dictionary key that doesn’t exist"
      ],
      "metadata": {
        "id": "YcyIWSG1J7Gc"
      }
    },
    {
      "cell_type": "code",
      "source": [
        "my_dict = {\"name\": \"John\"}\n",
        "\n",
        "try:\n",
        "    print(my_dict[\"age\"])\n",
        "except KeyError:\n",
        "    print(\"Key does not exist.\")\n"
      ],
      "metadata": {
        "id": "Su_diV_aI8Rw"
      },
      "execution_count": null,
      "outputs": []
    },
    {
      "cell_type": "markdown",
      "source": [
        "Write a program that demonstrates using multiple except blocks to handle different types of exceptions"
      ],
      "metadata": {
        "id": "DOse6DIWJ88T"
      }
    },
    {
      "cell_type": "code",
      "source": [
        "try:\n",
        "    num = int(\"abc\")  # ValueError\n",
        "    result = 10 / 0   # ZeroDivisionError\n",
        "except ValueError:\n",
        "    print(\"Invalid number format.\")\n",
        "except ZeroDivisionError:\n",
        "    print(\"Division by zero.\")\n"
      ],
      "metadata": {
        "id": "Rgg8UObdI-KK"
      },
      "execution_count": null,
      "outputs": []
    },
    {
      "cell_type": "markdown",
      "source": [
        "How would you check if a file exists before attempting to read it in Python"
      ],
      "metadata": {
        "id": "uRKg9XMPJ_kd"
      }
    },
    {
      "cell_type": "code",
      "source": [
        "import os\n",
        "\n",
        "if os.path.exists(\"example.txt\"):\n",
        "    with open(\"example.txt\", \"r\") as file:\n",
        "        print(file.read())\n",
        "else:\n",
        "    print(\"File not found.\")\n"
      ],
      "metadata": {
        "id": "W3pmfU6bI_sL"
      },
      "execution_count": null,
      "outputs": []
    },
    {
      "cell_type": "markdown",
      "source": [
        "Write a program that uses the logging module to log both informational and error messages"
      ],
      "metadata": {
        "id": "k2kqguYvKBng"
      }
    },
    {
      "cell_type": "code",
      "source": [
        "import logging\n",
        "logging.basicConfig(filename=\"app.log\", level=logging.DEBUG)\n",
        "\n",
        "logging.info(\"Program started successfully.\")\n",
        "try:\n",
        "    10 / 0\n",
        "except ZeroDivisionError as e:\n",
        "    logging.error(\"Error occurred: %s\", e)\n"
      ],
      "metadata": {
        "id": "OciPnjk_JCdN"
      },
      "execution_count": null,
      "outputs": []
    },
    {
      "cell_type": "markdown",
      "source": [
        "Write a Python program that prints the content of a file and handles the case when the file is empty"
      ],
      "metadata": {
        "id": "k4IiBwZyKDqG"
      }
    },
    {
      "cell_type": "code",
      "source": [
        "with open(\"example.txt\", \"r\") as file:\n",
        "    content = file.read()\n",
        "    if content.strip() == \"\":\n",
        "        print(\"File is empty.\")\n",
        "    else:\n",
        "        print(content)\n"
      ],
      "metadata": {
        "id": "EG9Swu1oJFYr"
      },
      "execution_count": null,
      "outputs": []
    },
    {
      "cell_type": "markdown",
      "source": [
        "Demonstrate how to use memory profiling to check the memory usage of a small program"
      ],
      "metadata": {
        "id": "X8ws5uhXKF2J"
      }
    },
    {
      "cell_type": "code",
      "source": [
        "from memory_profiler import profile\n",
        "\n",
        "@profile\n",
        "def my_function():\n",
        "    nums = [x for x in range(100000)]\n",
        "    return sum(nums)\n",
        "\n",
        "my_function()\n"
      ],
      "metadata": {
        "id": "BZ3TMfJ0JGxw"
      },
      "execution_count": null,
      "outputs": []
    },
    {
      "cell_type": "markdown",
      "source": [
        "Write a Python program to create and write a list of numbers to a file, one number per line"
      ],
      "metadata": {
        "id": "b3jAm8R9KHxm"
      }
    },
    {
      "cell_type": "code",
      "source": [
        "numbers = [1, 2, 3, 4, 5]\n",
        "\n",
        "with open(\"numbers.txt\", \"w\") as file:\n",
        "    for num in numbers:\n",
        "        file.write(str(num) + \"\\n\")\n"
      ],
      "metadata": {
        "id": "vamC4sxFJHi6"
      },
      "execution_count": null,
      "outputs": []
    },
    {
      "cell_type": "markdown",
      "source": [
        "How would you implement a basic logging setup that logs to a file with rotation after 1MB"
      ],
      "metadata": {
        "id": "npUGqqO0KJ0j"
      }
    },
    {
      "cell_type": "code",
      "source": [
        "import logging\n",
        "from logging.handlers import RotatingFileHandler\n",
        "\n",
        "handler = RotatingFileHandler(\"app.log\", maxBytes=1_000_000, backupCount=3)\n",
        "logging.basicConfig(handlers=[handler], level=logging.INFO)\n",
        "\n",
        "logging.info(\"This is a rotating log example.\")\n"
      ],
      "metadata": {
        "id": "cmvz1RjJJKcs"
      },
      "execution_count": null,
      "outputs": []
    },
    {
      "cell_type": "markdown",
      "source": [
        "Write a program that handles both IndexError and KeyError using a try-except block"
      ],
      "metadata": {
        "id": "S2XboEZlKNft"
      }
    },
    {
      "cell_type": "code",
      "source": [
        "try:\n",
        "    my_list = [1, 2, 3]\n",
        "    print(my_list[5])  # IndexError\n",
        "    my_dict = {}\n",
        "    print(my_dict[\"key\"])  # KeyError\n",
        "except IndexError:\n",
        "    print(\"List index out of range.\")\n",
        "except KeyError:\n",
        "    print(\"Dictionary key missing.\")\n"
      ],
      "metadata": {
        "id": "Ejndrim8JMfe"
      },
      "execution_count": null,
      "outputs": []
    },
    {
      "cell_type": "markdown",
      "source": [
        "How would you open a file and read its contents using a context manager in Python"
      ],
      "metadata": {
        "id": "PHLWNICLKQt9"
      }
    },
    {
      "cell_type": "code",
      "source": [
        "with open(\"example.txt\", \"r\") as file:\n",
        "    print(file.read())\n"
      ],
      "metadata": {
        "id": "88NXMi8EJOOB"
      },
      "execution_count": null,
      "outputs": []
    },
    {
      "cell_type": "markdown",
      "source": [
        "Write a Python program that reads a file and prints the number of occurrences of a specific word"
      ],
      "metadata": {
        "id": "uu3JSjPGKSs-"
      }
    },
    {
      "cell_type": "code",
      "source": [
        "word_to_count = \"python\"\n",
        "\n",
        "with open(\"example.txt\", \"r\") as file:\n",
        "    content = file.read().lower()\n",
        "    count = content.count(word_to_count.lower())\n",
        "\n",
        "print(f\"'{word_to_count}' occurs {count} times.\")\n"
      ],
      "metadata": {
        "id": "K_a_Yod3JP46"
      },
      "execution_count": null,
      "outputs": []
    },
    {
      "cell_type": "markdown",
      "source": [
        "How can you check if a file is empty before attempting to read its contents"
      ],
      "metadata": {
        "id": "nVCkmCAQKUmN"
      }
    },
    {
      "cell_type": "code",
      "source": [
        "import os\n",
        "\n",
        "if os.path.exists(\"example.txt\") and os.path.getsize(\"example.txt\") == 0:\n",
        "    print(\"File is empty.\")\n",
        "else:\n",
        "    print(\"File has content.\")\n"
      ],
      "metadata": {
        "id": "hXYLECojJRZr"
      },
      "execution_count": null,
      "outputs": []
    },
    {
      "cell_type": "markdown",
      "source": [
        "Write a Python program that writes to a log file when an error occurs during file handling\n",
        "\n"
      ],
      "metadata": {
        "id": "DXAiKyoxKWH_"
      }
    },
    {
      "cell_type": "code",
      "source": [
        "import logging\n",
        "logging.basicConfig(filename=\"file_errors.log\", level=logging.ERROR)\n",
        "\n",
        "try:\n",
        "    with open(\"unknown.txt\", \"r\") as file:\n",
        "        print(file.read())\n",
        "except Exception as e:\n",
        "    logging.error(\"File handling error: %s\", e)\n"
      ],
      "metadata": {
        "id": "KhZtRN5rJTWd"
      },
      "execution_count": null,
      "outputs": []
    }
  ]
}