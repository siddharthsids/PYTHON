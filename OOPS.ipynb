{
  "nbformat": 4,
  "nbformat_minor": 0,
  "metadata": {
    "colab": {
      "provenance": []
    },
    "kernelspec": {
      "name": "python3",
      "display_name": "Python 3"
    },
    "language_info": {
      "name": "python"
    }
  },
  "cells": [
    {
      "cell_type": "markdown",
      "source": [
        "# Theory questions"
      ],
      "metadata": {
        "id": "zyshlZFe3k6n"
      }
    },
    {
      "cell_type": "markdown",
      "source": [
        "**1. What is Object-Oriented Programming (OOP)?**\n",
        "\n",
        "OOP is a way of writing code where you organize things as real-world objects. Think of everything in terms of “things” that have characteristics (like name or color) and actions they can do (like move or speak). In Python, OOP helps keep code clean, modular, and easy to reuse.\n",
        "\n"
      ],
      "metadata": {
        "id": "6zJpd28py2Bs"
      }
    },
    {
      "cell_type": "markdown",
      "source": [
        "**2. What is a class in OOP?**\n",
        "\n",
        "A class is like a blueprint for creating objects. Imagine you’re designing a car: the class would be the design itself — it defines how the car should look and behave. But the actual cars you build from it (objects) are all based on that one design."
      ],
      "metadata": {
        "id": "sC884ggBzFby"
      }
    },
    {
      "cell_type": "markdown",
      "source": [
        "**3. What is an object in OOP?**\n",
        "\n",
        "An object is an actual instance of a class. Using the car example, if the class is the blueprint, then a specific car (like your White Tata punch) is the object — something real, built from that design.\n",
        "\n"
      ],
      "metadata": {
        "id": "q33_B5_kzRo9"
      }
    },
    {
      "cell_type": "markdown",
      "source": [
        "**4. What is the difference between abstraction and encapsulation?**\n",
        "\n",
        "Abstraction is about hiding the complex stuff and showing only what’s important. Like using a coffee machine — you don’t care how it brews, you just press a button.\n",
        "\n",
        "Encapsulation means keeping data and methods bundled together and restricting access to some of the parts — like locking the machine so only certain people can open it."
      ],
      "metadata": {
        "id": "aDEyT38mzoK_"
      }
    },
    {
      "cell_type": "markdown",
      "source": [
        "**5. What are dunder methods in Python?**\n",
        "\n",
        "“Dunder” stands for “double underscore” — like __init__, __str__, __len__, etc. These are special methods that Python looks for when you use built-in functions or operators. For example, when you print an object, Python uses the __str__() method to know what to display.\n",
        "\n"
      ],
      "metadata": {
        "id": "MRobntuIzuRm"
      }
    },
    {
      "cell_type": "markdown",
      "source": [
        "**6. Explain the concept of inheritance in OOP.**\n",
        "\n",
        "Inheritance means one class can take on (or “inherit”) properties and behaviors from another class. For example, if you have a class Animal, you can create a class Dog that inherits from it. Dog will get everything from Animal, but you can also add dog-specific things.\n",
        "\n"
      ],
      "metadata": {
        "id": "JUcofuaNz4YB"
      }
    },
    {
      "cell_type": "markdown",
      "source": [
        "**7. What is polymorphism in OOP?**\n",
        "\n",
        "Polymorphism is a fancy way of saying: same action, different behavior. Like if you have a speak() method, a Dog might bark while a Cat might meow. They both “speak,” but in their own way."
      ],
      "metadata": {
        "id": "JHwkxxSRz7uO"
      }
    },
    {
      "cell_type": "markdown",
      "source": [
        "**8. How is encapsulation achieved in Python?**\n",
        "\n",
        "In Python, we use underscores to hide data:\n",
        "\n",
        "_name is “protected” (a gentle hint not to access it directly).\n",
        "\n",
        "__name is “private” (harder to access from outside the class).\n",
        "\n",
        "You also use getter and setter methods to safely access or modify private data."
      ],
      "metadata": {
        "id": "y2Ei5nwG0Fys"
      }
    },
    {
      "cell_type": "markdown",
      "source": [
        "**9. What is a constructor in Python?**\n",
        "\n",
        "A constructor is a method that runs automatically when you create an object from a class. In Python, it’s called __init__. You usually use it to set up the object with initial values."
      ],
      "metadata": {
        "id": "QGsWsAbD0KV7"
      }
    },
    {
      "cell_type": "markdown",
      "source": [
        "**10. What are class and static methods in Python?**\n",
        "\n",
        "Class methods use @classmethod and take cls as the first parameter. They can change class-level stuff.\n",
        "\n",
        "Static methods use @staticmethod and don’t need self or cls. They’re just like regular functions but live inside the class for organization."
      ],
      "metadata": {
        "id": "2X6QqoMd0QjG"
      }
    },
    {
      "cell_type": "markdown",
      "source": [
        "**11. What is method overloading in Python?**\n",
        "\n",
        "Technically, Python doesn’t support method overloading the way languages like Java do. In Java, you can have multiple methods with the same name but different arguments.\n",
        "In Python, if you try to define a method again, it just replaces the previous one.\n",
        "But you can mimic overloading by using default arguments or *args/**kwargs. So, Python says: “Keep it simple, I’ll handle whatever you throw at me.”"
      ],
      "metadata": {
        "id": "JOdP3E2D0p3L"
      }
    },
    {
      "cell_type": "markdown",
      "source": [
        "**12. What is method overriding in OOP?**\n",
        "\n",
        "Method overriding is when a child class redefines a method from the parent class. It’s like saying,\n",
        "“Hey, I know how Dad does this, but I’ve got my own style.”\n",
        "Example: A base class Animal has a method speak(), but Dog overrides it to print(\"Bark!\").\n",
        "\n"
      ],
      "metadata": {
        "id": "CF8kWjQl04Ac"
      }
    },
    {
      "cell_type": "markdown",
      "source": [
        "**13. What is a property decorator in Python?**\n",
        "\n",
        "The @property decorator lets you turn a method into something that looks like a normal attribute.\n",
        "So instead of writing person.get_age(), you just write person.age.\n",
        "It’s a neat trick to make your code cleaner while still having control over how values are accessed.\n",
        "\n"
      ],
      "metadata": {
        "id": "dEnBkkT809Kv"
      }
    },
    {
      "cell_type": "markdown",
      "source": [
        "**14. Why is polymorphism important in OOP?**\n",
        "\n",
        "Polymorphism makes your code flexible and future-proof.\n",
        "It lets you write code that can work with objects of different types, as long as they follow the same interface.\n",
        "So, your function doesn’t care which animal it’s talking to — if it has a speak() method, it just works.\n",
        "\n"
      ],
      "metadata": {
        "id": "Nh0F4TDn1Gr2"
      }
    },
    {
      "cell_type": "markdown",
      "source": [
        "**15. What is an abstract class in Python?**\n",
        "\n",
        "An abstract class is like a rough draft — you can’t create objects from it directly.\n",
        "It’s meant to be inherited and to enforce a structure. You define methods that must be implemented in the child classes.\n",
        "In Python, we use the abc module to create these. It's like saying, “Hey, I’m giving you the framework — fill in the blanks.”"
      ],
      "metadata": {
        "id": "ycZ6xDV71MJQ"
      }
    },
    {
      "cell_type": "markdown",
      "source": [
        "**16. What are the advantages of OOP?**\n",
        "\n",
        "Better organization: Group data and behavior into logical units.\n",
        "\n",
        "Reusability: You don’t have to write the same code again and again — use inheritance.\n",
        "\n",
        "Modularity: Fixing or improving one part doesn’t break the rest.\n",
        "\n",
        "Easier to scale: OOP helps in building big software in a structured way."
      ],
      "metadata": {
        "id": "Cik0VVYM1Phj"
      }
    },
    {
      "cell_type": "markdown",
      "source": [
        "**17. What is the difference between a class variable and an instance variable?**\n",
        "\n",
        "Class variables are shared by all objects of the class. If one changes it, all see the change.\n",
        "\n",
        "Instance variables belong to the object itself. Each object has its own copy.\n",
        "\n",
        "Think of class variables like a shared Wi-Fi password, and instance variables like your own phone wallpaper."
      ],
      "metadata": {
        "id": "vOsHAbK-1VfM"
      }
    },
    {
      "cell_type": "markdown",
      "source": [
        "**18. What is multiple inheritance in Python?**\n",
        "\n",
        "Multiple inheritance is when a class inherits from more than one parent class.\n",
        "It’s like getting traits from both your parents and grandparents.\n",
        "Python supports this, but you have to manage the Method Resolution Order (MRO) carefully — Python uses the C3 linearization algorithm to decide who gets called first."
      ],
      "metadata": {
        "id": "iLRZ_m9E1bKd"
      }
    },
    {
      "cell_type": "markdown",
      "source": [
        "**19. Explain the purpose of __str__ and __repr__ methods in Python.**\n",
        "\n",
        "These two help define how your object looks when you print it:\n",
        "\n",
        "__str__ is for humans — pretty and readable (print(obj) uses this).\n",
        "\n",
        "__repr__ is for developers — official and detailed (repr(obj) or just typing the object in Python shell).\n",
        "\n",
        "If you had a book object, __str__ might return \"Harry Potter by J.K. Rowling\", while __repr__ could return Book(\"Harry Potter\", \"J.K. Rowling\", 1997)."
      ],
      "metadata": {
        "id": "UFqZQilR1gTi"
      }
    },
    {
      "cell_type": "markdown",
      "source": [
        "**20. What is the significance of the super() function in Python?**\n",
        "\n",
        "super() lets you call methods from a parent class inside a child class.\n",
        "It’s handy when you override a method but still want to use the original.\n",
        "Think of it as saying, “Hey parent, do your thing first — then I’ll add my own twist.”"
      ],
      "metadata": {
        "id": "tSnhPasg11SO"
      }
    },
    {
      "cell_type": "markdown",
      "source": [
        "**21. What is the significance of the __del__ method in Python?**\n",
        "\n",
        "This method is called when an object is about to be deleted — like a goodbye wave before the object is destroyed.\n",
        "It’s the destructor. You might use it to clean up stuff like closing files or releasing resources.\n",
        "But in most cases, Python’s garbage collector handles cleanup automatically."
      ],
      "metadata": {
        "id": "le0HFPTx2Skv"
      }
    },
    {
      "cell_type": "markdown",
      "source": [
        "**22. What is the difference between @staticmethod and @classmethod in Python?**\n",
        "\n",
        "@staticmethod doesn’t care about the class or object — it’s just a function inside the class.\n",
        "\n",
        "@classmethod gets the class (cls) as its first argument — useful when you want to change class-level data or create alternative constructors."
      ],
      "metadata": {
        "id": "I7KAyZCv2Wgj"
      }
    },
    {
      "cell_type": "markdown",
      "source": [
        "**23. How does polymorphism work in Python with inheritance?**\n",
        "\n",
        "In inheritance, polymorphism shows up when child classes override parent methods.\n",
        "Even if you’re using a parent class reference, Python will call the child’s version of the method at runtime.\n",
        "This is runtime polymorphism — like ordering a dish by its category, but the exact taste depends on the specific restaurant."
      ],
      "metadata": {
        "id": "MnyunkLu2cZ4"
      }
    },
    {
      "cell_type": "markdown",
      "source": [
        "**24. What is method chaining in Python OOP?**\n",
        "\n",
        "Method chaining means calling multiple methods one after another on the same object.\n",
        "For this to work, each method must return self.\n",
        "It looks nice:"
      ],
      "metadata": {
        "id": "--qSTKJ82hDa"
      }
    },
    {
      "cell_type": "markdown",
      "source": [
        "**25. What is the purpose of the __call__ method in Python?**\n",
        "\n",
        "This lets you make an object behave like a function.\n",
        "If you define __call__ in a class, you can do this:\n"
      ],
      "metadata": {
        "id": "PSgGw9R524QC"
      }
    },
    {
      "cell_type": "code",
      "source": [
        "\n",
        "obj = MyClass()\n",
        "obj()  # <-- this will trigger __call__"
      ],
      "metadata": {
        "id": "WF-IKU4O3A61"
      },
      "execution_count": null,
      "outputs": []
    },
    {
      "cell_type": "markdown",
      "source": [
        "# Practical Questions"
      ],
      "metadata": {
        "id": "GBev51Xz3wIj"
      }
    },
    {
      "cell_type": "markdown",
      "source": [
        "1. Create a parent class Animal with a method speak() that prints a generic message. Create a child class Dog that overrides the speak() method to print \"Bark!\"."
      ],
      "metadata": {
        "id": "byv7H65d31Y2"
      }
    },
    {
      "cell_type": "code",
      "source": [
        "class Animal:\n",
        "    def speak(self):\n",
        "        print(\"The animal makes a sound.\")\n",
        "\n",
        "class Dog(Animal):\n",
        "    def speak(self):\n",
        "        print(\"Bark!\")\n",
        "\n",
        "# Testing\n",
        "a = Animal()\n",
        "a.speak()  # The animal makes a sound.\n",
        "\n",
        "d = Dog()\n",
        "d.speak()  # Bark!\n"
      ],
      "metadata": {
        "colab": {
          "base_uri": "https://localhost:8080/"
        },
        "id": "Px7tf_e-37R6",
        "outputId": "5073fd5c-8ee5-4db1-fe8c-3a4e8755bd62"
      },
      "execution_count": 6,
      "outputs": [
        {
          "output_type": "stream",
          "name": "stdout",
          "text": [
            "The animal makes a sound.\n",
            "Bark!\n"
          ]
        }
      ]
    },
    {
      "cell_type": "markdown",
      "source": [
        "**2. Create an abstract class Shape with a method area(). Then create Circle and Rectangle classes that implement area().**"
      ],
      "metadata": {
        "id": "ok-rCtYC4CRl"
      }
    },
    {
      "cell_type": "code",
      "source": [
        "from abc import ABC, abstractmethod\n",
        "import math\n",
        "\n",
        "class Shape(ABC):\n",
        "    @abstractmethod\n",
        "    def area(self):\n",
        "        pass\n",
        "\n",
        "class Circle(Shape):\n",
        "    def __init__(self, radius):\n",
        "        self.radius = radius\n",
        "\n",
        "    def area(self):\n",
        "        return math.pi * self.radius ** 2\n",
        "\n",
        "class Rectangle(Shape):\n",
        "    def __init__(self, width, height):\n",
        "        self.width = width\n",
        "        self.height = height\n",
        "\n",
        "    def area(self):\n",
        "        return self.width * self.height\n",
        "\n",
        "# Testing\n",
        "c = Circle(5)\n",
        "print(c.area())  # ~78.5\n",
        "\n",
        "r = Rectangle(4, 6)\n",
        "print(r.area())  # 24\n"
      ],
      "metadata": {
        "colab": {
          "base_uri": "https://localhost:8080/"
        },
        "id": "cksJr7c13_gs",
        "outputId": "a86e404e-51ba-4149-f063-bede5a9cc142"
      },
      "execution_count": 7,
      "outputs": [
        {
          "output_type": "stream",
          "name": "stdout",
          "text": [
            "78.53981633974483\n",
            "24\n"
          ]
        }
      ]
    },
    {
      "cell_type": "markdown",
      "source": [
        "**3. Multi-level inheritance: Vehicle → Car → ElectricCar.**"
      ],
      "metadata": {
        "id": "5XhxAHoP4Kmq"
      }
    },
    {
      "cell_type": "code",
      "source": [
        "class Vehicle:\n",
        "    def __init__(self, type):\n",
        "        self.type = type\n",
        "\n",
        "class Car(Vehicle):\n",
        "    def __init__(self, type, brand):\n",
        "        super().__init__(type)\n",
        "        self.brand = brand\n",
        "\n",
        "class ElectricCar(Car):\n",
        "    def __init__(self, type, brand, battery):\n",
        "        super().__init__(type, brand)\n",
        "        self.battery = battery\n",
        "\n",
        "# Testing\n",
        "ecar = ElectricCar(\"Electric\", \"Tesla\", \"100 kWh\")\n",
        "print(ecar.type, ecar.brand, ecar.battery)\n"
      ],
      "metadata": {
        "colab": {
          "base_uri": "https://localhost:8080/"
        },
        "id": "9lz3hkSU4JTe",
        "outputId": "e4a90b8c-a03a-4c3e-d9fc-e47f7ef57206"
      },
      "execution_count": 8,
      "outputs": [
        {
          "output_type": "stream",
          "name": "stdout",
          "text": [
            "Electric Tesla 100 kWh\n"
          ]
        }
      ]
    },
    {
      "cell_type": "markdown",
      "source": [
        "**4. Polymorphism with a base class Bird, and Sparrow, Penguin overriding fly() method.**"
      ],
      "metadata": {
        "id": "bZmjiK8F4VzX"
      }
    },
    {
      "cell_type": "code",
      "source": [
        "class Bird:\n",
        "    def fly(self):\n",
        "        print(\"Bird is flying\")\n",
        "\n",
        "class Sparrow(Bird):\n",
        "    def fly(self):\n",
        "        print(\"Sparrow flies high!\")\n",
        "\n",
        "class Penguin(Bird):\n",
        "    def fly(self):\n",
        "        print(\"Penguins can't fly, but they swim!\")\n",
        "\n",
        "# Testing\n",
        "for bird in [Sparrow(), Penguin()]:\n",
        "    bird.fly()\n"
      ],
      "metadata": {
        "colab": {
          "base_uri": "https://localhost:8080/"
        },
        "id": "7_KjBf2N4QYS",
        "outputId": "d8dc6e6e-08d0-4ea8-f39a-bb677affb0a9"
      },
      "execution_count": 9,
      "outputs": [
        {
          "output_type": "stream",
          "name": "stdout",
          "text": [
            "Sparrow flies high!\n",
            "Penguins can't fly, but they swim!\n"
          ]
        }
      ]
    },
    {
      "cell_type": "markdown",
      "source": [
        "**5. Encapsulation: BankAccount with private balance and methods to deposit, withdraw, check.**"
      ],
      "metadata": {
        "id": "x_czO89D4g9N"
      }
    },
    {
      "cell_type": "code",
      "source": [
        "class BankAccount:\n",
        "    def __init__(self, balance):\n",
        "        self.__balance = balance\n",
        "\n",
        "    def deposit(self, amount):\n",
        "        self.__balance += amount\n",
        "\n",
        "    def withdraw(self, amount):\n",
        "        if amount <= self.__balance:\n",
        "            self.__balance -= amount\n",
        "        else:\n",
        "            print(\"Insufficient funds\")\n",
        "\n",
        "    def get_balance(self):\n",
        "        return self.__balance\n",
        "\n",
        "# Testing\n",
        "acc = BankAccount(1000)\n",
        "acc.deposit(500)\n",
        "acc.withdraw(300)\n",
        "print(acc.get_balance())  # 1200\n"
      ],
      "metadata": {
        "colab": {
          "base_uri": "https://localhost:8080/"
        },
        "id": "HIkmMZTl4bvo",
        "outputId": "5d77f241-1589-475c-9790-5f91d2911c94"
      },
      "execution_count": 10,
      "outputs": [
        {
          "output_type": "stream",
          "name": "stdout",
          "text": [
            "1200\n"
          ]
        }
      ]
    },
    {
      "cell_type": "markdown",
      "source": [
        "**6. Runtime polymorphism with Instrument base class and Guitar, Piano child classes.**"
      ],
      "metadata": {
        "id": "rKH21sWn4k64"
      }
    },
    {
      "cell_type": "code",
      "source": [
        "class Instrument:\n",
        "    def play(self):\n",
        "        print(\"Instrument is playing.\")\n",
        "\n",
        "class Guitar(Instrument):\n",
        "    def play(self):\n",
        "        print(\"Strumming the guitar!\")\n",
        "\n",
        "class Piano(Instrument):\n",
        "    def play(self):\n",
        "        print(\"Playing the piano keys.\")\n",
        "\n",
        "# Testing\n",
        "for inst in [Guitar(), Piano()]:\n",
        "    inst.play()\n"
      ],
      "metadata": {
        "colab": {
          "base_uri": "https://localhost:8080/"
        },
        "id": "7ILe6r_E4j83",
        "outputId": "bcc3ea8f-282c-408f-c206-5e39e767d56a"
      },
      "execution_count": 11,
      "outputs": [
        {
          "output_type": "stream",
          "name": "stdout",
          "text": [
            "Strumming the guitar!\n",
            "Playing the piano keys.\n"
          ]
        }
      ]
    },
    {
      "cell_type": "markdown",
      "source": [
        "**7. Class method to add numbers, static method to subtract — MathOperations.**"
      ],
      "metadata": {
        "id": "pyDi5d2f4rAh"
      }
    },
    {
      "cell_type": "code",
      "source": [
        "class MathOperations:\n",
        "    @classmethod\n",
        "    def add_numbers(cls, a, b):\n",
        "        return a + b\n",
        "\n",
        "    @staticmethod\n",
        "    def subtract_numbers(a, b):\n",
        "        return a - b\n",
        "\n",
        "print(MathOperations.add_numbers(10, 5))   # 15\n",
        "print(MathOperations.subtract_numbers(10, 5))  # 5\n"
      ],
      "metadata": {
        "colab": {
          "base_uri": "https://localhost:8080/"
        },
        "id": "ZEwk7LKv4qMw",
        "outputId": "a77428e2-ce74-4413-d16d-10b107caa76a"
      },
      "execution_count": 12,
      "outputs": [
        {
          "output_type": "stream",
          "name": "stdout",
          "text": [
            "15\n",
            "5\n"
          ]
        }
      ]
    },
    {
      "cell_type": "markdown",
      "source": [
        "**8. Class Person with counter of total persons created.**"
      ],
      "metadata": {
        "id": "zmlCIrQ_4x9D"
      }
    },
    {
      "cell_type": "code",
      "source": [
        "class Person:\n",
        "    count = 0\n",
        "\n",
        "    def __init__(self, name):\n",
        "        self.name = name\n",
        "        Person.count += 1\n",
        "\n",
        "    @classmethod\n",
        "    def total_persons(cls):\n",
        "        return cls.count\n",
        "\n",
        "# Testing\n",
        "p1 = Person(\"A\")\n",
        "p2 = Person(\"B\")\n",
        "print(Person.total_persons())  # 2\n"
      ],
      "metadata": {
        "colab": {
          "base_uri": "https://localhost:8080/"
        },
        "id": "1PS6qpXm4vcc",
        "outputId": "31a653bd-96fc-4575-d5c5-e452a059a27f"
      },
      "execution_count": 13,
      "outputs": [
        {
          "output_type": "stream",
          "name": "stdout",
          "text": [
            "2\n"
          ]
        }
      ]
    },
    {
      "cell_type": "markdown",
      "source": [
        "**9. Fraction class with __str__ method to print “numerator/denominator”.**"
      ],
      "metadata": {
        "id": "niwnC0SW4-P3"
      }
    },
    {
      "cell_type": "code",
      "source": [
        "class Fraction:\n",
        "    def __init__(self, numerator, denominator):\n",
        "        self.numerator = numerator\n",
        "        self.denominator = denominator\n",
        "\n",
        "    def __str__(self):\n",
        "        return f\"{self.numerator}/{self.denominator}\"\n",
        "\n",
        "# Testing\n",
        "f = Fraction(3, 4)\n",
        "print(f)  # 3/4\n"
      ],
      "metadata": {
        "colab": {
          "base_uri": "https://localhost:8080/"
        },
        "id": "Z2IP2KAM40-R",
        "outputId": "f1052d2e-9a6b-43a3-8eaa-5bd8db4d6711"
      },
      "execution_count": 14,
      "outputs": [
        {
          "output_type": "stream",
          "name": "stdout",
          "text": [
            "3/4\n"
          ]
        }
      ]
    },
    {
      "cell_type": "markdown",
      "source": [
        "**10. Operator overloading: add two vectors using __add__.**\n",
        "\n"
      ],
      "metadata": {
        "id": "mVKJRleK5Dmq"
      }
    },
    {
      "cell_type": "code",
      "source": [
        "class Vector:\n",
        "    def __init__(self, x, y):\n",
        "        self.x = x\n",
        "        self.y = y\n",
        "\n",
        "    def __add__(self, other):\n",
        "        return Vector(self.x + other.x, self.y + other.y)\n",
        "\n",
        "    def __str__(self):\n",
        "        return f\"Vector({self.x}, {self.y})\"\n",
        "\n",
        "# Testing\n",
        "v1 = Vector(1, 2)\n",
        "v2 = Vector(3, 4)\n",
        "print(v1 + v2)  # Vector(4, 6)\n"
      ],
      "metadata": {
        "colab": {
          "base_uri": "https://localhost:8080/"
        },
        "id": "TGZxDQZ35Bfg",
        "outputId": "0c6c56ec-df55-49ad-be77-698666a765d0"
      },
      "execution_count": 15,
      "outputs": [
        {
          "output_type": "stream",
          "name": "stdout",
          "text": [
            "Vector(4, 6)\n"
          ]
        }
      ]
    },
    {
      "cell_type": "markdown",
      "source": [
        "**11. Create a class Person with attributes name and age. Add a greet() method that prints: \"Hello, my name is {name} and I am {age} years old.\"**"
      ],
      "metadata": {
        "id": "AtYZ_cT_5Yt2"
      }
    },
    {
      "cell_type": "code",
      "source": [
        "class Person:\n",
        "    def __init__(self, name, age):\n",
        "        self.name = name\n",
        "        self.age = age\n",
        "\n",
        "    def greet(self):\n",
        "        print(f\"Hello, my name is {self.name} and I am {self.age} years old.\")\n",
        "\n",
        "# Testing\n",
        "p = Person(\"Amit\", 22)\n",
        "p.greet()\n"
      ],
      "metadata": {
        "colab": {
          "base_uri": "https://localhost:8080/"
        },
        "id": "vvh6K7qH5PSR",
        "outputId": "25cac6c5-dee1-4253-ba9f-d151cca2810b"
      },
      "execution_count": 16,
      "outputs": [
        {
          "output_type": "stream",
          "name": "stdout",
          "text": [
            "Hello, my name is Amit and I am 22 years old.\n"
          ]
        }
      ]
    },
    {
      "cell_type": "markdown",
      "source": [
        "**12. Create a Student class with attributes name and grades. Add a method average_grade() to compute the average.**"
      ],
      "metadata": {
        "id": "wEKJrXbq5eqw"
      }
    },
    {
      "cell_type": "code",
      "source": [
        "class Student:\n",
        "    def __init__(self, name, grades):\n",
        "        self.name = name\n",
        "        self.grades = grades\n",
        "\n",
        "    def average_grade(self):\n",
        "        return sum(self.grades) / len(self.grades)\n",
        "\n",
        "# Testing\n",
        "s = Student(\"Priya\", [85, 90, 78])\n",
        "print(s.average_grade())  # ~84.33\n"
      ],
      "metadata": {
        "colab": {
          "base_uri": "https://localhost:8080/"
        },
        "id": "wmDP8dnR5cPk",
        "outputId": "5dd55e41-cf3b-4462-fec9-3920d9f36ac5"
      },
      "execution_count": 17,
      "outputs": [
        {
          "output_type": "stream",
          "name": "stdout",
          "text": [
            "84.33333333333333\n"
          ]
        }
      ]
    },
    {
      "cell_type": "markdown",
      "source": [
        "**13. Create a Rectangle class with methods set_dimensions() and area().**"
      ],
      "metadata": {
        "id": "As57h7l85mF3"
      }
    },
    {
      "cell_type": "code",
      "source": [
        "class Rectangle:\n",
        "    def set_dimensions(self, width, height):\n",
        "        self.width = width\n",
        "        self.height = height\n",
        "\n",
        "    def area(self):\n",
        "        return self.width * self.height\n",
        "\n",
        "# Testing\n",
        "rect = Rectangle()\n",
        "rect.set_dimensions(5, 3)\n",
        "print(rect.area())  # 15\n"
      ],
      "metadata": {
        "colab": {
          "base_uri": "https://localhost:8080/"
        },
        "id": "vWIIYReT5lHV",
        "outputId": "ea1dc3e8-0ca7-46b2-c28f-7b7dd426dab7"
      },
      "execution_count": 18,
      "outputs": [
        {
          "output_type": "stream",
          "name": "stdout",
          "text": [
            "15\n"
          ]
        }
      ]
    },
    {
      "cell_type": "markdown",
      "source": [
        "**14. Create Employee with calculate_salary() and a Manager subclass that adds bonus.**"
      ],
      "metadata": {
        "id": "Sq7YeQKM5rrX"
      }
    },
    {
      "cell_type": "code",
      "source": [
        "class Employee:\n",
        "    def __init__(self, hours, rate):\n",
        "        self.hours = hours\n",
        "        self.rate = rate\n",
        "\n",
        "    def calculate_salary(self):\n",
        "        return self.hours * self.rate\n",
        "\n",
        "class Manager(Employee):\n",
        "    def __init__(self, hours, rate, bonus):\n",
        "        super().__init__(hours, rate)\n",
        "        self.bonus = bonus\n",
        "\n",
        "    def calculate_salary(self):\n",
        "        return super().calculate_salary() + self.bonus\n",
        "\n",
        "# Testing\n",
        "m = Manager(40, 50, 2000)\n",
        "print(m.calculate_salary())  # 4000\n"
      ],
      "metadata": {
        "colab": {
          "base_uri": "https://localhost:8080/"
        },
        "id": "V-v4PHWm5q0p",
        "outputId": "ca26ab1f-2971-4285-fbb9-e0586d76a79f"
      },
      "execution_count": 19,
      "outputs": [
        {
          "output_type": "stream",
          "name": "stdout",
          "text": [
            "4000\n"
          ]
        }
      ]
    },
    {
      "cell_type": "markdown",
      "source": [
        "**15. Create Product class with name, price, quantity and total_price().**"
      ],
      "metadata": {
        "id": "S2j2UfQi5zCc"
      }
    },
    {
      "cell_type": "code",
      "source": [
        "class Product:\n",
        "    def __init__(self, name, price, quantity):\n",
        "        self.name = name\n",
        "        self.price = price\n",
        "        self.quantity = quantity\n",
        "\n",
        "    def total_price(self):\n",
        "        return self.price * self.quantity\n",
        "\n",
        "# Testing\n",
        "p = Product(\"Laptop\", 50000, 2)\n",
        "print(p.total_price())  # 100000\n"
      ],
      "metadata": {
        "colab": {
          "base_uri": "https://localhost:8080/"
        },
        "id": "CPs9FYlF5wt5",
        "outputId": "2d532f88-6967-4a44-9b48-554fe9499eed"
      },
      "execution_count": 20,
      "outputs": [
        {
          "output_type": "stream",
          "name": "stdout",
          "text": [
            "100000\n"
          ]
        }
      ]
    },
    {
      "cell_type": "markdown",
      "source": [
        "**16. Create Animal with abstract method sound(). Implement it in Cow and Sheep.**"
      ],
      "metadata": {
        "id": "EQ6y1cFv55HQ"
      }
    },
    {
      "cell_type": "code",
      "source": [
        "from abc import ABC, abstractmethod\n",
        "\n",
        "class Animal(ABC):\n",
        "    @abstractmethod\n",
        "    def sound(self):\n",
        "        pass\n",
        "\n",
        "class Cow(Animal):\n",
        "    def sound(self):\n",
        "        print(\"Moo\")\n",
        "\n",
        "class Sheep(Animal):\n",
        "    def sound(self):\n",
        "        print(\"Baa\")\n",
        "\n",
        "# Testing\n",
        "for a in [Cow(), Sheep()]:\n",
        "    a.sound()\n"
      ],
      "metadata": {
        "colab": {
          "base_uri": "https://localhost:8080/"
        },
        "id": "T04F5CIM52d-",
        "outputId": "13a1ad01-7dc6-432c-f24c-a0f09d65cc68"
      },
      "execution_count": 21,
      "outputs": [
        {
          "output_type": "stream",
          "name": "stdout",
          "text": [
            "Moo\n",
            "Baa\n"
          ]
        }
      ]
    },
    {
      "cell_type": "markdown",
      "source": [
        "**17. Create Book with title, author, year_published. Add get_book_info().**"
      ],
      "metadata": {
        "id": "6l287roC59h_"
      }
    },
    {
      "cell_type": "code",
      "source": [
        "class Book:\n",
        "    def __init__(self, title, author, year_published):\n",
        "        self.title = title\n",
        "        self.author = author\n",
        "        self.year_published = year_published\n",
        "\n",
        "    def get_book_info(self):\n",
        "        return f\"{self.title} by {self.author}, published in {self.year_published}\"\n",
        "\n",
        "# Testing\n",
        "b = Book(\"The great Delhi\", \"Jatin Shamani\", 2025)\n",
        "print(b.get_book_info())\n"
      ],
      "metadata": {
        "colab": {
          "base_uri": "https://localhost:8080/"
        },
        "id": "u40in7Ve58eq",
        "outputId": "03c5993d-2ede-4064-d401-b0fdbd44f649"
      },
      "execution_count": 23,
      "outputs": [
        {
          "output_type": "stream",
          "name": "stdout",
          "text": [
            "The great Delhi by Jatin Shamani, published in 2025\n"
          ]
        }
      ]
    },
    {
      "cell_type": "markdown",
      "source": [
        "**18. Create House class with address and price. Create Mansion subclass that adds number_of_rooms.**"
      ],
      "metadata": {
        "id": "d6eEH_in6cYQ"
      }
    },
    {
      "cell_type": "code",
      "source": [
        "class House:\n",
        "    def __init__(self, address, price):\n",
        "        self.address = address\n",
        "        self.price = price\n",
        "\n",
        "class Mansion(House):\n",
        "    def __init__(self, address, price, number_of_rooms):\n",
        "        super().__init__(address, price)\n",
        "        self.number_of_rooms = number_of_rooms\n",
        "\n",
        "# Testing\n",
        "m = Mansion(\"123 Palm Street\", 50000000, 12)\n",
        "print(m.address, m.price, m.number_of_rooms)\n"
      ],
      "metadata": {
        "colab": {
          "base_uri": "https://localhost:8080/"
        },
        "id": "Jj4cDLH-6CKT",
        "outputId": "1a6dc526-ad4f-429e-bdf3-bc881ba39cd5"
      },
      "execution_count": 24,
      "outputs": [
        {
          "output_type": "stream",
          "name": "stdout",
          "text": [
            "123 Palm Street 50000000 12\n"
          ]
        }
      ]
    },
    {
      "cell_type": "code",
      "source": [],
      "metadata": {
        "id": "RuB9ojj36jkk"
      },
      "execution_count": null,
      "outputs": []
    }
  ]
}