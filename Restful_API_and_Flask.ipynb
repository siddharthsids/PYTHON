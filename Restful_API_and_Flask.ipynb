{
  "nbformat": 4,
  "nbformat_minor": 0,
  "metadata": {
    "colab": {
      "provenance": []
    },
    "kernelspec": {
      "name": "python3",
      "display_name": "Python 3"
    },
    "language_info": {
      "name": "python"
    }
  },
  "cells": [
    {
      "cell_type": "markdown",
      "source": [
        "**1. What is a RESTful API?**\n",
        "\n",
        "A RESTful API is an interface that allows two applications to talk to each other over the internet using the rules of REST (Representational State Transfer). It uses HTTP methods like GET, POST, PUT, and DELETE to perform actions on resources. For example, a weather API lets you fetch temperature data by sending a GET request."
      ],
      "metadata": {
        "id": "pJn60-P0OgA8"
      }
    },
    {
      "cell_type": "markdown",
      "source": [
        "**2. Explain the concept of API specification.**\n",
        "\n",
        "An API specification is basically the rulebook for how an API works. It tells developers what endpoints are available, what data format to use (JSON, XML), what parameters are required, and what response to expect. Think of it like the “menu card” of an API."
      ],
      "metadata": {
        "id": "UPAdJM9cOk3j"
      }
    },
    {
      "cell_type": "markdown",
      "source": [
        "**3. What is Flask, and why is it popular for building APIs?**\n",
        "\n",
        "Flask is a lightweight Python web framework used to build web applications and APIs. It’s popular because it’s simple, flexible, and easy to learn. Unlike big frameworks (like Django), Flask gives you the freedom to add only the components you need."
      ],
      "metadata": {
        "id": "DJVXm4toOqfI"
      }
    },
    {
      "cell_type": "markdown",
      "source": [
        "**4. What is routing in Flask?**\n",
        "\n",
        "Routing means deciding which function should handle which URL. For example, if a user goes to /home, Flask routes that request to a specific function that returns a response."
      ],
      "metadata": {
        "id": "pHEDlke1OsbT"
      }
    },
    {
      "cell_type": "markdown",
      "source": [
        "**5. How do you create a simple Flask application?**"
      ],
      "metadata": {
        "id": "1C1Kmr9dOwkQ"
      }
    },
    {
      "cell_type": "code",
      "execution_count": null,
      "metadata": {
        "colab": {
          "base_uri": "https://localhost:8080/"
        },
        "id": "00S36eghOfLG",
        "outputId": "e9a80061-8ab3-4e70-c819-64b2c5251be4"
      },
      "outputs": [
        {
          "metadata": {
            "tags": null
          },
          "name": "stdout",
          "output_type": "stream",
          "text": [
            " * Serving Flask app '__main__'\n",
            " * Debug mode: on\n"
          ]
        },
        {
          "metadata": {
            "tags": null
          },
          "name": "stderr",
          "output_type": "stream",
          "text": [
            "INFO:werkzeug:\u001b[31m\u001b[1mWARNING: This is a development server. Do not use it in a production deployment. Use a production WSGI server instead.\u001b[0m\n",
            " * Running on http://127.0.0.1:5000\n",
            "INFO:werkzeug:\u001b[33mPress CTRL+C to quit\u001b[0m\n",
            "INFO:werkzeug: * Restarting with stat\n"
          ]
        }
      ],
      "source": [
        "from flask import Flask\n",
        "\n",
        "app = Flask(__name__)\n",
        "\n",
        "@app.route('/')\n",
        "def home():\n",
        "    return \"Hello, Flask!\"\n",
        "\n",
        "if __name__ == \"__main__\":\n",
        "    app.run(debug=True)\n"
      ]
    },
    {
      "cell_type": "markdown",
      "source": [
        "**6. What are HTTP methods used in RESTful APIs?**\n",
        "\n",
        "GET → Fetch data\n",
        "\n",
        "POST → Add new data\n",
        "\n",
        "PUT → Update existing data\n",
        "\n",
        "DELETE → Remove data\n",
        "\n",
        "PATCH → Partially update data"
      ],
      "metadata": {
        "id": "LngmgpOBPDYo"
      }
    },
    {
      "cell_type": "markdown",
      "source": [
        "**7. What is the purpose of the @app.route() decorator in Flask?**\n",
        "\n",
        "It tells Flask which URL should trigger which function. Without it, Flask wouldn’t know what to do when a user visits a URL."
      ],
      "metadata": {
        "id": "toVps1VsPG4T"
      }
    },
    {
      "cell_type": "markdown",
      "source": [
        "**8. What is the difference between GET and POST HTTP methods?**\n",
        "\n",
        "GET → Sends data via the URL (used for fetching info).\n",
        "\n",
        "POST → Sends data in the request body (used for submitting forms or adding data)."
      ],
      "metadata": {
        "id": "Lh3PeAOePKsi"
      }
    },
    {
      "cell_type": "markdown",
      "source": [
        "**9. How do you handle errors in Flask APIs?**"
      ],
      "metadata": {
        "id": "b0SegtrBPNE2"
      }
    },
    {
      "cell_type": "code",
      "source": [
        "@app.errorhandler(404)\n",
        "def not_found(e):\n",
        "    return {\"error\": \"Not Found\"}, 404\n",
        "\n"
      ],
      "metadata": {
        "id": "DTtnTyQ_O2FF"
      },
      "execution_count": null,
      "outputs": []
    },
    {
      "cell_type": "markdown",
      "source": [
        "**10. How do you connect Flask to a SQL database?**\n",
        "\n",
        "You can use libraries like Flask-SQLAlchemy. First, configure the database URI, then define models (tables), and use them for queries."
      ],
      "metadata": {
        "id": "L1qSH9gFPVNl"
      }
    },
    {
      "cell_type": "markdown",
      "source": [
        "**11. What is the role of Flask-SQLAlchemy?**\n",
        "\n",
        "It’s an extension that makes it easier to use SQL databases in Flask. Instead of writing raw SQL, you work with Python classes and objects."
      ],
      "metadata": {
        "id": "ZWrnc2JwQBul"
      }
    },
    {
      "cell_type": "markdown",
      "source": [
        "**12. What are Flask blueprints, and how are they useful?**\n",
        "\n",
        "Blueprints help you organize your Flask app into smaller modules. If your project grows, instead of having one big file, you can separate routes and logic into blueprints."
      ],
      "metadata": {
        "id": "yhqiL9adQFKp"
      }
    },
    {
      "cell_type": "markdown",
      "source": [
        "**13. What is the purpose of Flask's request object?**\n",
        "\n",
        "The request object stores data about the incoming HTTP request, like form data, JSON body, headers, or query parameters."
      ],
      "metadata": {
        "id": "qffdHrhOQIYe"
      }
    },
    {
      "cell_type": "markdown",
      "source": [
        "**14. How do you create a RESTful API endpoint using Flask?**"
      ],
      "metadata": {
        "id": "0Fmw10gmQMjd"
      }
    },
    {
      "cell_type": "code",
      "source": [
        "@app.route('/api/data', methods=['GET'])\n",
        "def get_data():\n",
        "    return {\"message\": \"This is an API endpoint\"}\n"
      ],
      "metadata": {
        "id": "kPCcm5_LPREC"
      },
      "execution_count": null,
      "outputs": []
    },
    {
      "cell_type": "markdown",
      "source": [
        "**15. What is the purpose of Flask's jsonify() function?**\n",
        "\n",
        "jsonify() converts Python dictionaries into JSON format (the standard for APIs) and also sets the correct content type."
      ],
      "metadata": {
        "id": "KWvNTAdQQWCV"
      }
    },
    {
      "cell_type": "markdown",
      "source": [
        "**16. Explain Flask’s url_for() function.**\n",
        "\n",
        "url_for() generates URLs dynamically. Instead of hardcoding links, you use the function name, and Flask creates the right URL. This is useful if routes change later."
      ],
      "metadata": {
        "id": "KyfWMhurQbUZ"
      }
    },
    {
      "cell_type": "markdown",
      "source": [
        "**17. How does Flask handle static files (CSS, JavaScript, etc.)?**\n",
        "\n",
        "Flask automatically serves static files placed inside a folder named static. For example, /static/style.css."
      ],
      "metadata": {
        "id": "MDw63oWCQdxF"
      }
    },
    {
      "cell_type": "markdown",
      "source": [
        "**18. What is an API specification, and how does it help in building a Flask API?**\n",
        "\n",
        "(Already answered in Q2, but rephrased) → It acts as a guide for developers to know what requests are allowed, how to send data, and what responses to expect. In Flask, it ensures the API is built consistently."
      ],
      "metadata": {
        "id": "vUlO8Og4Qge7"
      }
    },
    {
      "cell_type": "markdown",
      "source": [
        "**19. What are HTTP status codes, and why are they important in a Flask API?**\n",
        "\n",
        "They are standard codes that tell the client what happened:\n",
        "\n",
        "200 OK → success\n",
        "\n",
        "201 Created → data created\n",
        "\n",
        "400 Bad Request → client error\n",
        "\n",
        "404 Not Found → resource missing\n",
        "\n",
        "500 Internal Server Error → server issue\n",
        "\n",
        "They are important because they give clear communication between client and server."
      ],
      "metadata": {
        "id": "zQnLRSSUQm16"
      }
    },
    {
      "cell_type": "markdown",
      "source": [
        "**20. How do you handle POST requests in Flask?**\n",
        "\n",
        "@app.route('/submit', methods=['POST'])\n",
        "def submit():\n",
        "    data = request.json\n",
        "    return {\"received\": data}\n"
      ],
      "metadata": {
        "id": "g4ay_ng_QqHH"
      }
    },
    {
      "cell_type": "markdown",
      "source": [
        "**21. How would you secure a Flask API?**\n",
        "\n",
        "Use authentication (like JWT tokens).\n",
        "\n",
        "Validate user input.\n",
        "\n",
        "Use HTTPS.\n",
        "\n",
        "Limit API requests (rate limiting)."
      ],
      "metadata": {
        "id": "PgBaFf8nQwGs"
      }
    },
    {
      "cell_type": "markdown",
      "source": [
        "**22. What is the significance of the Flask-RESTful extension?**\n",
        "\n",
        "It’s an add-on that simplifies building REST APIs in Flask by providing tools for resources, request parsing, and better structure."
      ],
      "metadata": {
        "id": "ZI-WK7jyQzc5"
      }
    },
    {
      "cell_type": "markdown",
      "source": [
        "**23. What is the role of Flask’s session object?**\n",
        "\n",
        "The session object stores data about a user across multiple requests (like login info). It uses cookies under the hood."
      ],
      "metadata": {
        "id": "c6NY-DhWQ3pZ"
      }
    },
    {
      "cell_type": "markdown",
      "source": [
        "# Practical Questions"
      ],
      "metadata": {
        "id": "6fqqd5AJRcTp"
      }
    },
    {
      "cell_type": "markdown",
      "source": [
        "**1. How do you create a basic Flask application?**"
      ],
      "metadata": {
        "id": "jvORr_8MRgUR"
      }
    },
    {
      "cell_type": "code",
      "source": [
        "from flask import Flask\n",
        "\n",
        "# Create a Flask app\n",
        "app = Flask(__name__)\n",
        "\n",
        "@app.route('/')\n",
        "def home():\n",
        "    return \"Hello, this is my first Flask app!\"\n",
        "\n",
        "if __name__ == \"__main__\":\n",
        "    app.run(debug=True)\n"
      ],
      "metadata": {
        "id": "KncoOouVQUDo"
      },
      "execution_count": null,
      "outputs": []
    },
    {
      "cell_type": "markdown",
      "source": [
        "**2. How do you serve static files like images or CSS in Flask?**\n",
        "\n",
        "Flask automatically serves files placed in the static folder."
      ],
      "metadata": {
        "id": "Zk5vABfkRkw0"
      }
    },
    {
      "cell_type": "code",
      "source": [
        "project/\n",
        "   app.py\n",
        "   static/\n",
        "       style.css\n",
        "       logo.png\n"
      ],
      "metadata": {
        "id": "wChVVUG2RpSp"
      },
      "execution_count": null,
      "outputs": []
    },
    {
      "cell_type": "code",
      "source": [
        "<link rel=\"stylesheet\" href=\"{{ url_for('static', filename='style.css') }}\">\n",
        "<img src=\"{{ url_for('static', filename='logo.png') }}\">\n"
      ],
      "metadata": {
        "id": "Q_klDetCRyjr"
      },
      "execution_count": null,
      "outputs": []
    },
    {
      "cell_type": "markdown",
      "source": [
        "**3. How do you define different routes with different HTTP methods in Flask?**"
      ],
      "metadata": {
        "id": "5gOUoEfWRwp0"
      }
    },
    {
      "cell_type": "code",
      "source": [
        "from flask import request\n",
        "\n",
        "@app.route('/user', methods=['GET', 'POST'])\n",
        "def user():\n",
        "    if request.method == 'GET':\n",
        "        return \"You made a GET request\"\n",
        "    elif request.method == 'POST':\n",
        "        return \"You made a POST request\"\n"
      ],
      "metadata": {
        "id": "fOKsQ2ByRruj"
      },
      "execution_count": null,
      "outputs": []
    },
    {
      "cell_type": "markdown",
      "source": [
        "**4. How do you render HTML templates in Flask?**"
      ],
      "metadata": {
        "id": "kObzvcfDR6SF"
      }
    },
    {
      "cell_type": "code",
      "source": [
        "project/\n",
        "   app.py\n",
        "   templates/\n",
        "       index.html\n"
      ],
      "metadata": {
        "id": "FNk-CSafR9lL"
      },
      "execution_count": null,
      "outputs": []
    },
    {
      "cell_type": "code",
      "source": [
        "from flask import render_template\n",
        "\n",
        "@app.route('/')\n",
        "def home():\n",
        "    return render_template(\"index.html\", name=\"Alice\")\n"
      ],
      "metadata": {
        "id": "Qf2TYyf7R_jG"
      },
      "execution_count": null,
      "outputs": []
    },
    {
      "cell_type": "code",
      "source": [
        "<!DOCTYPE html>\n",
        "<html>\n",
        "<head><title>Flask Example</title></head>\n",
        "<body>\n",
        "    <h1>Hello, {{ name }}!</h1>\n",
        "</body>\n",
        "</html>\n"
      ],
      "metadata": {
        "id": "kCJRitSJSCZr"
      },
      "execution_count": null,
      "outputs": []
    },
    {
      "cell_type": "code",
      "source": [
        "<!DOCTYPE html>\n",
        "<html>\n",
        "<head><title>Flask Example</title></head>\n",
        "<body>\n",
        "    <h1>Hello, {{ name }}!</h1>\n",
        "</body>\n",
        "</html>\n"
      ],
      "metadata": {
        "id": "nKEOz8JTSEH3"
      },
      "execution_count": null,
      "outputs": []
    },
    {
      "cell_type": "markdown",
      "source": [
        "**5. How can you generate URLs for routes in Flask using url_for?**"
      ],
      "metadata": {
        "id": "HuIgXU9ASGZE"
      }
    },
    {
      "cell_type": "code",
      "source": [
        "from flask import redirect, url_for\n",
        "\n",
        "@app.route('/profile')\n",
        "def profile():\n",
        "    return \"This is your profile page\"\n",
        "\n",
        "@app.route('/go')\n",
        "def go():\n",
        "    return redirect(url_for('profile'))\n"
      ],
      "metadata": {
        "id": "eokTyIPcSKjn"
      },
      "execution_count": null,
      "outputs": []
    },
    {
      "cell_type": "markdown",
      "source": [
        "**6. How do you handle forms in Flask?**"
      ],
      "metadata": {
        "id": "mPNcJbaaSNZ8"
      }
    },
    {
      "cell_type": "code",
      "source": [
        "<form action=\"/submit\" method=\"POST\">\n",
        "    <input type=\"text\" name=\"username\" placeholder=\"Enter name\">\n",
        "    <input type=\"submit\" value=\"Submit\">\n",
        "</form>\n"
      ],
      "metadata": {
        "id": "Ocs8MPQjSO06"
      },
      "execution_count": null,
      "outputs": []
    },
    {
      "cell_type": "code",
      "source": [
        "@app.route('/submit', methods=['POST'])\n",
        "def submit():\n",
        "    username = request.form['username']\n",
        "    return f\"Hello, {username}!\"\n"
      ],
      "metadata": {
        "id": "BlSl3gn2SQgY"
      },
      "execution_count": null,
      "outputs": []
    },
    {
      "cell_type": "markdown",
      "source": [
        "**7. How can you validate form data in Flask?**\n",
        "\n",
        "You can manually check inputs or use libraries like WTForms.\n",
        "\n",
        "Example (manual validation):"
      ],
      "metadata": {
        "id": "GhvQhp1USU41"
      }
    },
    {
      "cell_type": "code",
      "source": [
        "@app.route('/signup', methods=['POST'])\n",
        "def signup():\n",
        "    email = request.form['email']\n",
        "    if \"@\" not in email:\n",
        "        return \"Invalid email!\"\n",
        "    return f\"Welcome {email}\"\n"
      ],
      "metadata": {
        "id": "vJ94FLJzSW3h"
      },
      "execution_count": null,
      "outputs": []
    },
    {
      "cell_type": "markdown",
      "source": [
        "**8. How do you manage sessions in Flask?**"
      ],
      "metadata": {
        "id": "ezSQS2fRSZ_5"
      }
    },
    {
      "cell_type": "code",
      "source": [
        "from flask import session\n",
        "\n",
        "app.secret_key = \"secret123\"  # Required for session\n",
        "\n",
        "@app.route('/set')\n",
        "def set_session():\n",
        "    session['user'] = \"Alice\"\n",
        "    return \"Session set!\"\n",
        "\n",
        "@app.route('/get')\n",
        "def get_session():\n",
        "    return f\"Hello, {session['user']}\"\n"
      ],
      "metadata": {
        "id": "uvttu9B8SczZ"
      },
      "execution_count": null,
      "outputs": []
    },
    {
      "cell_type": "markdown",
      "source": [
        "**9. How do you redirect to a different route in Flask?**"
      ],
      "metadata": {
        "id": "GYmcAAsUSe9F"
      }
    },
    {
      "cell_type": "code",
      "source": [
        "@app.route('/login')\n",
        "def login():\n",
        "    return redirect(url_for('home'))\n"
      ],
      "metadata": {
        "id": "VWk1bgHpSgyl"
      },
      "execution_count": null,
      "outputs": []
    },
    {
      "cell_type": "markdown",
      "source": [
        "**10. How do you handle errors in Flask (e.g., 404)?**"
      ],
      "metadata": {
        "id": "rfE6qYnxSoEe"
      }
    },
    {
      "cell_type": "code",
      "source": [
        "@app.errorhandler(404)\n",
        "def not_found(e):\n",
        "    return \"Oops! Page not found\", 404\n"
      ],
      "metadata": {
        "id": "-ujwh7oNSp0D"
      },
      "execution_count": null,
      "outputs": []
    },
    {
      "cell_type": "markdown",
      "source": [
        "**11. How do you structure a Flask app using Blueprints?**\n",
        "\n",
        "Blueprints allow dividing an app into modules."
      ],
      "metadata": {
        "id": "DDgZedvMSreB"
      }
    },
    {
      "cell_type": "code",
      "source": [
        "from flask import Blueprint\n",
        "\n",
        "auth = Blueprint('auth', __name__)\n",
        "\n",
        "@auth.route('/login')\n",
        "def login():\n",
        "    return \"Login Page\"\n"
      ],
      "metadata": {
        "id": "0FOOow_QSueT"
      },
      "execution_count": null,
      "outputs": []
    },
    {
      "cell_type": "code",
      "source": [
        "from auth import auth\n",
        "app.register_blueprint(auth)\n"
      ],
      "metadata": {
        "id": "ZT3-yxvkSwnL"
      },
      "execution_count": null,
      "outputs": []
    },
    {
      "cell_type": "markdown",
      "source": [
        "**12. How do you define a custom Jinja filter in Flask?**"
      ],
      "metadata": {
        "id": "HXMGgeMVSyrV"
      }
    },
    {
      "cell_type": "code",
      "source": [
        "@app.template_filter('reverse')\n",
        "def reverse_filter(s):\n",
        "    return s[::-1]\n"
      ],
      "metadata": {
        "id": "7V7VnvAMS1FM"
      },
      "execution_count": null,
      "outputs": []
    },
    {
      "cell_type": "code",
      "source": [
        "<p>{{ \"Flask\" | reverse }}</p>\n"
      ],
      "metadata": {
        "id": "ZnlDUbdPS3Ca"
      },
      "execution_count": null,
      "outputs": []
    },
    {
      "cell_type": "markdown",
      "source": [
        "**13. How can you redirect with query parameters in Flask?**\n"
      ],
      "metadata": {
        "id": "k4Dev080S5kp"
      }
    },
    {
      "cell_type": "code",
      "source": [
        "@app.route('/search')\n",
        "def search():\n",
        "    query = request.args.get('q')\n",
        "    return f\"You searched for: {query}\"\n",
        "\n",
        "@app.route('/go')\n",
        "def go():\n",
        "    return redirect(url_for('search', q='flask tutorial'))\n"
      ],
      "metadata": {
        "id": "h5p1O2IKS-4f"
      },
      "execution_count": null,
      "outputs": []
    },
    {
      "cell_type": "markdown",
      "source": [
        "**14. How do you return JSON responses in Flask?**"
      ],
      "metadata": {
        "id": "tyOLBc-TTA1c"
      }
    },
    {
      "cell_type": "code",
      "source": [
        "from flask import jsonify\n",
        "\n",
        "@app.route('/api/data')\n",
        "def get_data():\n",
        "    return jsonify({\"name\": \"Alice\", \"age\": 22})\n"
      ],
      "metadata": {
        "id": "C2v_f_iyTCnB"
      },
      "execution_count": null,
      "outputs": []
    },
    {
      "cell_type": "markdown",
      "source": [
        "15. How do you capture URL parameters in Flask?"
      ],
      "metadata": {
        "id": "V0DGcbC_TEQm"
      }
    },
    {
      "cell_type": "code",
      "source": [
        "@app.route('/user/<username>')\n",
        "def user_profile(username):\n",
        "    return f\"Hello, {username}\"\n"
      ],
      "metadata": {
        "id": "q6BPtfQpTF3p"
      },
      "execution_count": null,
      "outputs": []
    }
  ]
}